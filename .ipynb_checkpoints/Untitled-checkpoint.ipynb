{
 "cells": [
  {
   "cell_type": "code",
   "execution_count": 1,
   "id": "5875f8d8",
   "metadata": {},
   "outputs": [],
   "source": [
    "import pandas as pd"
   ]
  },
  {
   "cell_type": "code",
   "execution_count": 93,
   "id": "716a18dc",
   "metadata": {},
   "outputs": [],
   "source": [
    "c=[] #good datasets"
   ]
  },
  {
   "cell_type": "code",
   "execution_count": 94,
   "id": "5d8009b3",
   "metadata": {},
   "outputs": [],
   "source": [
    "d1=pd.read_csv(\"SHA256SUMS.txt\",sep=\" \")"
   ]
  },
  {
   "cell_type": "code",
   "execution_count": 95,
   "id": "d76e3aa7",
   "metadata": {},
   "outputs": [],
   "source": [
    "for i in d1[\"LICENSE.txt\"]:\n",
    "    c.append(pd.read_csv(i,low_memory=False))"
   ]
  },
  {
   "cell_type": "code",
   "execution_count": 96,
   "id": "8a2bf2c3",
   "metadata": {},
   "outputs": [
    {
     "data": {
      "text/plain": [
       "26"
      ]
     },
     "execution_count": 96,
     "metadata": {},
     "output_type": "execute_result"
    }
   ],
   "source": [
    "len(c)"
   ]
  },
  {
   "cell_type": "code",
   "execution_count": 108,
   "id": "f316e906",
   "metadata": {},
   "outputs": [
    {
     "ename": "NameError",
     "evalue": "name 'col' is not defined",
     "output_type": "error",
     "traceback": [
      "\u001b[1;31m---------------------------------------------------------------------------\u001b[0m",
      "\u001b[1;31mNameError\u001b[0m                                 Traceback (most recent call last)",
      "Cell \u001b[1;32mIn[108], line 3\u001b[0m\n\u001b[0;32m      1\u001b[0m patient_id\u001b[38;5;241m=\u001b[39m[]\n\u001b[0;32m      2\u001b[0m \u001b[38;5;28;01mfor\u001b[39;00m i \u001b[38;5;129;01min\u001b[39;00m c:\n\u001b[1;32m----> 3\u001b[0m     \u001b[38;5;28;01mif\u001b[39;00m \u001b[43mcol\u001b[49m \u001b[38;5;129;01min\u001b[39;00m i\u001b[38;5;241m.\u001b[39mcolumns:\n\u001b[0;32m      4\u001b[0m         \u001b[38;5;28;01mfor\u001b[39;00m j \u001b[38;5;129;01min\u001b[39;00m i[col]:\n\u001b[0;32m      5\u001b[0m                       \u001b[38;5;28;01mif\u001b[39;00m \u001b[38;5;124m\"\u001b[39m\u001b[38;5;124mopioid\u001b[39m\u001b[38;5;124m\"\u001b[39m \u001b[38;5;129;01min\u001b[39;00m \u001b[38;5;28mstr\u001b[39m(j):\n",
      "\u001b[1;31mNameError\u001b[0m: name 'col' is not defined"
     ]
    }
   ],
   "source": [
    "patient_id=[]\n",
    "for i in c:\n",
    "    if col in i.columns:\n",
    "        for j in i[col]:\n",
    "                      if \"opioid\" in str(j):\n",
    "                        print(j)\n",
    "        "
   ]
  },
  {
   "cell_type": "code",
   "execution_count": 98,
   "id": "31a80bea",
   "metadata": {},
   "outputs": [
    {
     "data": {
      "text/plain": [
       "927749"
      ]
     },
     "execution_count": 98,
     "metadata": {},
     "output_type": "execute_result"
    }
   ],
   "source": [
    "len(patient_id)"
   ]
  },
  {
   "cell_type": "code",
   "execution_count": 99,
   "id": "a7dcbe6f",
   "metadata": {},
   "outputs": [
    {
     "data": {
      "text/plain": [
       "100"
      ]
     },
     "execution_count": 99,
     "metadata": {},
     "output_type": "execute_result"
    }
   ],
   "source": [
    "len(set(patient_id))"
   ]
  },
  {
   "cell_type": "code",
   "execution_count": 106,
   "id": "109efa2c",
   "metadata": {},
   "outputs": [],
   "source": [
    "patient_ids=sorted(list(set(patient_id)))"
   ]
  },
  {
   "cell_type": "code",
   "execution_count": 107,
   "id": "c49b41ef",
   "metadata": {},
   "outputs": [
    {
     "data": {
      "text/plain": [
       "[10006,\n",
       " 10011,\n",
       " 10013,\n",
       " 10017,\n",
       " 10019,\n",
       " 10026,\n",
       " 10027,\n",
       " 10029,\n",
       " 10032,\n",
       " 10033,\n",
       " 10035,\n",
       " 10036,\n",
       " 10038,\n",
       " 10040,\n",
       " 10042,\n",
       " 10043,\n",
       " 10044,\n",
       " 10045,\n",
       " 10046,\n",
       " 10056,\n",
       " 10059,\n",
       " 10061,\n",
       " 10064,\n",
       " 10065,\n",
       " 10067,\n",
       " 10069,\n",
       " 10074,\n",
       " 10076,\n",
       " 10083,\n",
       " 10088,\n",
       " 10089,\n",
       " 10090,\n",
       " 10093,\n",
       " 10094,\n",
       " 10098,\n",
       " 10101,\n",
       " 10102,\n",
       " 10104,\n",
       " 10106,\n",
       " 10111,\n",
       " 10112,\n",
       " 10114,\n",
       " 10117,\n",
       " 10119,\n",
       " 10120,\n",
       " 10124,\n",
       " 10126,\n",
       " 10127,\n",
       " 10130,\n",
       " 10132,\n",
       " 40124,\n",
       " 40177,\n",
       " 40204,\n",
       " 40277,\n",
       " 40286,\n",
       " 40304,\n",
       " 40310,\n",
       " 40456,\n",
       " 40503,\n",
       " 40595,\n",
       " 40601,\n",
       " 40612,\n",
       " 40655,\n",
       " 40687,\n",
       " 41795,\n",
       " 41914,\n",
       " 41976,\n",
       " 41983,\n",
       " 42033,\n",
       " 42066,\n",
       " 42075,\n",
       " 42135,\n",
       " 42199,\n",
       " 42231,\n",
       " 42275,\n",
       " 42281,\n",
       " 42292,\n",
       " 42302,\n",
       " 42321,\n",
       " 42346,\n",
       " 42367,\n",
       " 42412,\n",
       " 42430,\n",
       " 42458,\n",
       " 43735,\n",
       " 43746,\n",
       " 43748,\n",
       " 43779,\n",
       " 43798,\n",
       " 43827,\n",
       " 43870,\n",
       " 43879,\n",
       " 43881,\n",
       " 43909,\n",
       " 43927,\n",
       " 44083,\n",
       " 44154,\n",
       " 44212,\n",
       " 44222,\n",
       " 44228]"
      ]
     },
     "execution_count": 107,
     "metadata": {},
     "output_type": "execute_result"
    }
   ],
   "source": [
    "patient_ids"
   ]
  },
  {
   "cell_type": "code",
   "execution_count": null,
   "id": "13be3006",
   "metadata": {},
   "outputs": [],
   "source": []
  }
 ],
 "metadata": {
  "kernelspec": {
   "display_name": "Python 3 (ipykernel)",
   "language": "python",
   "name": "python3"
  },
  "language_info": {
   "codemirror_mode": {
    "name": "ipython",
    "version": 3
   },
   "file_extension": ".py",
   "mimetype": "text/x-python",
   "name": "python",
   "nbconvert_exporter": "python",
   "pygments_lexer": "ipython3",
   "version": "3.10.9"
  }
 },
 "nbformat": 4,
 "nbformat_minor": 5
}
