{
 "cells": [
  {
   "cell_type": "code",
   "execution_count": 1,
   "id": "13f7a067",
   "metadata": {},
   "outputs": [],
   "source": [
    "import pandas as pd\n",
    "import numpy as np"
   ]
  },
  {
   "cell_type": "code",
   "execution_count": 2,
   "id": "634dc526",
   "metadata": {},
   "outputs": [],
   "source": [
    "df=pd.read_csv(\"finaldata.csv\")"
   ]
  },
  {
   "cell_type": "code",
   "execution_count": 3,
   "id": "746e6919",
   "metadata": {},
   "outputs": [],
   "source": [
    "df['startdate'] = pd.to_datetime(df['startdate'], errors='coerce')\n",
    "df['enddate'] = pd.to_datetime(df['enddate'], errors='coerce')\n",
    "df['admittime'] = pd.to_datetime(df['admittime'], errors='coerce')\n",
    "df['dischtime'] = pd.to_datetime(df['dischtime'], errors='coerce')"
   ]
  },
  {
   "cell_type": "code",
   "execution_count": 4,
   "id": "fb162a21",
   "metadata": {},
   "outputs": [],
   "source": [
    "cols=df.columns"
   ]
  },
  {
   "cell_type": "code",
   "execution_count": 5,
   "id": "a8b99af6",
   "metadata": {},
   "outputs": [],
   "source": [
    "df[cols[3]+'year'] = df[cols[3]].dt.year\n",
    "df[cols[3]+'month'] = df[cols[3]].dt.month\n",
    "df[cols[3]+'day'] = df[cols[3]].dt.day\n",
    "df[cols[3]+'day_of_week'] = df[cols[3]].dt.dayofweek\n",
    "df[cols[3]+'hour'] = df[cols[3]].dt.hour"
   ]
  },
  {
   "cell_type": "code",
   "execution_count": 6,
   "id": "b760e796",
   "metadata": {},
   "outputs": [],
   "source": [
    "df[cols[4]+'year'] = df[cols[4]].dt.year\n",
    "df[cols[4]+'month'] = df[cols[4]].dt.month\n",
    "df[cols[4]+'day'] = df[cols[4]].dt.day\n",
    "df[cols[4]+'day_of_week'] = df[cols[4]].dt.dayofweek\n",
    "df[cols[4]+'hour'] = df[cols[4]].dt.hour"
   ]
  },
  {
   "cell_type": "code",
   "execution_count": 7,
   "id": "8c401915",
   "metadata": {},
   "outputs": [],
   "source": [
    "df[cols[9]+'year'] = df[cols[9]].dt.year\n",
    "df[cols[9]+'month'] = df[cols[9]].dt.month\n",
    "df[cols[9]+'day'] = df[cols[9]].dt.day\n",
    "df[cols[9]+'day_of_week'] = df[cols[9]].dt.dayofweek\n",
    "df[cols[9]+'hour'] = df[cols[9]].dt.hour"
   ]
  },
  {
   "cell_type": "code",
   "execution_count": 8,
   "id": "a841b70f",
   "metadata": {},
   "outputs": [],
   "source": [
    "df[cols[10]+'year'] = df[cols[10]].dt.year\n",
    "df[cols[10]+'month'] = df[cols[10]].dt.month\n",
    "df[cols[10]+'day'] = df[cols[10]].dt.day\n",
    "df[cols[10]+'day_of_week'] = df[cols[10]].dt.dayofweek\n",
    "df[cols[10]+'hour'] = df[cols[10]].dt.hour"
   ]
  },
  {
   "cell_type": "code",
   "execution_count": 9,
   "id": "a2e07f19",
   "metadata": {},
   "outputs": [],
   "source": [
    "df=df.drop([cols[3],cols[4],cols[9],cols[10]],axis=1)"
   ]
  },
  {
   "cell_type": "code",
   "execution_count": null,
   "id": "d5a90814",
   "metadata": {},
   "outputs": [],
   "source": []
  }
 ],
 "metadata": {
  "kernelspec": {
   "display_name": "Python 3 (ipykernel)",
   "language": "python",
   "name": "python3"
  },
  "language_info": {
   "codemirror_mode": {
    "name": "ipython",
    "version": 3
   },
   "file_extension": ".py",
   "mimetype": "text/x-python",
   "name": "python",
   "nbconvert_exporter": "python",
   "pygments_lexer": "ipython3",
   "version": "3.10.9"
  }
 },
 "nbformat": 4,
 "nbformat_minor": 5
}
