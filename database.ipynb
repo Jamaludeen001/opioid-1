{
 "cells": [
  {
   "cell_type": "code",
   "execution_count": 2,
   "id": "ed08ec9f",
   "metadata": {},
   "outputs": [],
   "source": [
    "import pandas as pd"
   ]
  },
  {
   "cell_type": "code",
   "execution_count": 33,
   "id": "3c120b5c",
   "metadata": {},
   "outputs": [],
   "source": [
    "import pickle"
   ]
  },
  {
   "cell_type": "code",
   "execution_count": 34,
   "id": "2db25238",
   "metadata": {},
   "outputs": [],
   "source": [
    "def load_model(model_name):\n",
    "    with open(model_name,\"rb\") as file:\n",
    "        model=pickle.load(file)\n",
    "    return model"
   ]
  },
  {
   "cell_type": "code",
   "execution_count": 35,
   "id": "bbc92844",
   "metadata": {},
   "outputs": [],
   "source": [
    "model=load_model(\"lstmmodel.pkl\")"
   ]
  },
  {
   "cell_type": "code",
   "execution_count": 36,
   "id": "c2243797",
   "metadata": {},
   "outputs": [
    {
     "data": {
      "text/plain": [
       "<Sequential name=sequential_12, built=True>"
      ]
     },
     "execution_count": 36,
     "metadata": {},
     "output_type": "execute_result"
    }
   ],
   "source": [
    "model"
   ]
  },
  {
   "cell_type": "code",
   "execution_count": 57,
   "id": "ef74af86",
   "metadata": {},
   "outputs": [],
   "source": [
    "ins=load_model(\"ins.pkl\")"
   ]
  },
  {
   "cell_type": "code",
   "execution_count": 38,
   "id": "511c3a13",
   "metadata": {},
   "outputs": [
    {
     "data": {
      "text/plain": [
       "<keras.src.legacy.preprocessing.text.Tokenizer at 0x2226a1f1780>"
      ]
     },
     "execution_count": 38,
     "metadata": {},
     "output_type": "execute_result"
    }
   ],
   "source": [
    "ins"
   ]
  },
  {
   "cell_type": "code",
   "execution_count": 67,
   "id": "29129e29",
   "metadata": {},
   "outputs": [],
   "source": [
    "df1=pd.read_csv(\"prescriptions.csv\")\n",
    "df2=pd.read_csv(\"admissions.csv\")"
   ]
  },
  {
   "cell_type": "code",
   "execution_count": 40,
   "id": "aa7b047b",
   "metadata": {},
   "outputs": [
    {
     "name": "stdout",
     "output_type": "stream",
     "text": [
      "<class 'pandas.core.frame.DataFrame'>\n",
      "RangeIndex: 129 entries, 0 to 128\n",
      "Data columns (total 19 columns):\n",
      " #   Column                Non-Null Count  Dtype \n",
      "---  ------                --------------  ----- \n",
      " 0   row_id                129 non-null    int64 \n",
      " 1   subject_id            129 non-null    int64 \n",
      " 2   hadm_id               129 non-null    int64 \n",
      " 3   admittime             129 non-null    object\n",
      " 4   dischtime             129 non-null    object\n",
      " 5   deathtime             40 non-null     object\n",
      " 6   admission_type        129 non-null    object\n",
      " 7   admission_location    129 non-null    object\n",
      " 8   discharge_location    129 non-null    object\n",
      " 9   insurance             129 non-null    object\n",
      " 10  language              81 non-null     object\n",
      " 11  religion              128 non-null    object\n",
      " 12  marital_status        113 non-null    object\n",
      " 13  ethnicity             129 non-null    object\n",
      " 14  edregtime             92 non-null     object\n",
      " 15  edouttime             92 non-null     object\n",
      " 16  diagnosis             129 non-null    object\n",
      " 17  hospital_expire_flag  129 non-null    int64 \n",
      " 18  has_chartevents_data  129 non-null    int64 \n",
      "dtypes: int64(5), object(14)\n",
      "memory usage: 19.3+ KB\n"
     ]
    }
   ],
   "source": [
    "df2.info()"
   ]
  },
  {
   "cell_type": "code",
   "execution_count": 41,
   "id": "94d3cb73",
   "metadata": {},
   "outputs": [
    {
     "data": {
      "text/plain": [
       "0      Medicare\n",
       "1       Private\n",
       "2      Medicare\n",
       "3      Medicare\n",
       "4      Medicare\n",
       "         ...   \n",
       "124     Private\n",
       "125    Medicare\n",
       "126    Medicare\n",
       "127    Medicare\n",
       "128     Private\n",
       "Name: insurance, Length: 129, dtype: object"
      ]
     },
     "execution_count": 41,
     "metadata": {},
     "output_type": "execute_result"
    }
   ],
   "source": [
    "df2[\"insurance\"]"
   ]
  },
  {
   "cell_type": "code",
   "execution_count": 51,
   "id": "08a98123",
   "metadata": {},
   "outputs": [],
   "source": [
    "ins.fit_on_texts(df2[\"insurance\"])"
   ]
  },
  {
   "cell_type": "code",
   "execution_count": 56,
   "id": "a6c60521",
   "metadata": {},
   "outputs": [],
   "source": [
    "df2[\"insurance\"]=df2[\"insurance\"]+\" hii\"+\" heii\""
   ]
  },
  {
   "cell_type": "code",
   "execution_count": 45,
   "id": "a8c73b6d",
   "metadata": {},
   "outputs": [],
   "source": [
    "a=a+[\" hii\"]"
   ]
  },
  {
   "cell_type": "code",
   "execution_count": 31,
   "id": "40b0a68d",
   "metadata": {},
   "outputs": [
    {
     "data": {
      "text/plain": [
       "0      Medicarehii\n",
       "1       Privatehii\n",
       "2      Medicarehii\n",
       "3      Medicarehii\n",
       "4      Medicarehii\n",
       "          ...     \n",
       "124     Privatehii\n",
       "125    Medicarehii\n",
       "126    Medicarehii\n",
       "127    Medicarehii\n",
       "128     Privatehii\n",
       "Name: insurance, Length: 129, dtype: object"
      ]
     },
     "execution_count": 31,
     "metadata": {},
     "output_type": "execute_result"
    }
   ],
   "source": [
    "a"
   ]
  },
  {
   "cell_type": "code",
   "execution_count": 52,
   "id": "c55ba6bc",
   "metadata": {},
   "outputs": [
    {
     "data": {
      "text/plain": [
       "[[2],\n",
       " [3],\n",
       " [2],\n",
       " [2],\n",
       " [2],\n",
       " [2],\n",
       " [2],\n",
       " [2],\n",
       " [2],\n",
       " [2],\n",
       " [2],\n",
       " [2],\n",
       " [2],\n",
       " [2],\n",
       " [2],\n",
       " [2],\n",
       " [2],\n",
       " [2],\n",
       " [4],\n",
       " [2],\n",
       " [2],\n",
       " [2],\n",
       " [2],\n",
       " [2],\n",
       " [3],\n",
       " [3],\n",
       " [4],\n",
       " [2],\n",
       " [2],\n",
       " [2],\n",
       " [2],\n",
       " [2],\n",
       " [3],\n",
       " [2],\n",
       " [3],\n",
       " [2],\n",
       " [2],\n",
       " [2],\n",
       " [3],\n",
       " [7],\n",
       " [2],\n",
       " [2],\n",
       " [3],\n",
       " [2],\n",
       " [2],\n",
       " [3],\n",
       " [3],\n",
       " [3],\n",
       " [2],\n",
       " [2],\n",
       " [4],\n",
       " [2],\n",
       " [2],\n",
       " [3],\n",
       " [3],\n",
       " [3],\n",
       " [2],\n",
       " [2],\n",
       " [2],\n",
       " [2],\n",
       " [2],\n",
       " [2],\n",
       " [2],\n",
       " [2],\n",
       " [3],\n",
       " [4],\n",
       " [2],\n",
       " [2],\n",
       " [2],\n",
       " [3],\n",
       " [2],\n",
       " [2],\n",
       " [2],\n",
       " [2],\n",
       " [2],\n",
       " [2],\n",
       " [2],\n",
       " [2],\n",
       " [2],\n",
       " [2],\n",
       " [2],\n",
       " [2],\n",
       " [2],\n",
       " [2],\n",
       " [2],\n",
       " [2],\n",
       " [2],\n",
       " [2],\n",
       " [2],\n",
       " [2],\n",
       " [2],\n",
       " [2],\n",
       " [2],\n",
       " [3],\n",
       " [2],\n",
       " [4],\n",
       " [4],\n",
       " [2],\n",
       " [2],\n",
       " [2],\n",
       " [2],\n",
       " [3],\n",
       " [2],\n",
       " [2],\n",
       " [2],\n",
       " [2],\n",
       " [2],\n",
       " [2],\n",
       " [2],\n",
       " [2],\n",
       " [2],\n",
       " [2],\n",
       " [2],\n",
       " [2],\n",
       " [3],\n",
       " [2],\n",
       " [2],\n",
       " [2],\n",
       " [3],\n",
       " [3],\n",
       " [2],\n",
       " [2],\n",
       " [3],\n",
       " [3],\n",
       " [3],\n",
       " [2],\n",
       " [2],\n",
       " [2],\n",
       " [3]]"
      ]
     },
     "execution_count": 52,
     "metadata": {},
     "output_type": "execute_result"
    }
   ],
   "source": [
    "ins.texts_to_sequences(df2[\"insurance\"])"
   ]
  },
  {
   "cell_type": "code",
   "execution_count": 54,
   "id": "dbb6a8d9",
   "metadata": {},
   "outputs": [],
   "source": [
    "# ----- structured code------"
   ]
  },
  {
   "cell_type": "code",
   "execution_count": 61,
   "id": "0f0d945d",
   "metadata": {},
   "outputs": [],
   "source": [
    "from tensorflow.keras.preprocessing.sequence import pad_sequences "
   ]
  },
  {
   "cell_type": "code",
   "execution_count": 68,
   "id": "3fb97f5d",
   "metadata": {},
   "outputs": [],
   "source": [
    "def instokenize(df,col,tokenizer):\n",
    "    tokenizer.fit_on_texts(df[col])\n",
    "    tokens=tokenizer.texts_to_sequences(df[col])\n",
    "    max_length = max(len(seq) for seq in tokens)\n",
    "    padded_ins = pad_sequences(tokens, maxlen=max_length)\n",
    "    model=embedding(tokenizer)\n",
    "    "
   ]
  },
  {
   "cell_type": "code",
   "execution_count": 69,
   "id": "c8baeb2a",
   "metadata": {},
   "outputs": [],
   "source": [
    "padded=instokenize(df2,\"insurance\",ins)"
   ]
  },
  {
   "cell_type": "code",
   "execution_count": null,
   "id": "1bc304bf",
   "metadata": {},
   "outputs": [],
   "source": [
    "def embedding(tokenizer):\n",
    "        in_dim=len(tokenizer.word_index)+1\n",
    "        out_dim=3\n",
    "        embedding_layer=Embedding(input_dim=in_dim,output_dim=out_dim)\n",
    "        self.model=Sequential()\n",
    "        self.model.add(embedding_layer)\n",
    "        self.model.add(LSTM(32))\n",
    "        self.model.add(Dense(1, activation='sigmoid'))\n",
    "        self.model.compile(optimizer='adam', loss='binary_crossentropy', metrics=['accuracy'])\n",
    "        return self.model"
   ]
  },
  {
   "cell_type": "code",
   "execution_count": 70,
   "id": "c610f0d4",
   "metadata": {},
   "outputs": [
    {
     "data": {
      "text/plain": [
       "array([[2],\n",
       "       [3],\n",
       "       [2],\n",
       "       [2],\n",
       "       [2],\n",
       "       [2],\n",
       "       [2],\n",
       "       [2],\n",
       "       [2],\n",
       "       [2],\n",
       "       [2],\n",
       "       [2],\n",
       "       [2],\n",
       "       [2],\n",
       "       [2],\n",
       "       [2],\n",
       "       [2],\n",
       "       [2],\n",
       "       [4],\n",
       "       [2],\n",
       "       [2],\n",
       "       [2],\n",
       "       [2],\n",
       "       [2],\n",
       "       [3],\n",
       "       [3],\n",
       "       [4],\n",
       "       [2],\n",
       "       [2],\n",
       "       [2],\n",
       "       [2],\n",
       "       [2],\n",
       "       [3],\n",
       "       [2],\n",
       "       [3],\n",
       "       [2],\n",
       "       [2],\n",
       "       [2],\n",
       "       [3],\n",
       "       [7],\n",
       "       [2],\n",
       "       [2],\n",
       "       [3],\n",
       "       [2],\n",
       "       [2],\n",
       "       [3],\n",
       "       [3],\n",
       "       [3],\n",
       "       [2],\n",
       "       [2],\n",
       "       [4],\n",
       "       [2],\n",
       "       [2],\n",
       "       [3],\n",
       "       [3],\n",
       "       [3],\n",
       "       [2],\n",
       "       [2],\n",
       "       [2],\n",
       "       [2],\n",
       "       [2],\n",
       "       [2],\n",
       "       [2],\n",
       "       [2],\n",
       "       [3],\n",
       "       [4],\n",
       "       [2],\n",
       "       [2],\n",
       "       [2],\n",
       "       [3],\n",
       "       [2],\n",
       "       [2],\n",
       "       [2],\n",
       "       [2],\n",
       "       [2],\n",
       "       [2],\n",
       "       [2],\n",
       "       [2],\n",
       "       [2],\n",
       "       [2],\n",
       "       [2],\n",
       "       [2],\n",
       "       [2],\n",
       "       [2],\n",
       "       [2],\n",
       "       [2],\n",
       "       [2],\n",
       "       [2],\n",
       "       [2],\n",
       "       [2],\n",
       "       [2],\n",
       "       [2],\n",
       "       [2],\n",
       "       [3],\n",
       "       [2],\n",
       "       [4],\n",
       "       [4],\n",
       "       [2],\n",
       "       [2],\n",
       "       [2],\n",
       "       [2],\n",
       "       [3],\n",
       "       [2],\n",
       "       [2],\n",
       "       [2],\n",
       "       [2],\n",
       "       [2],\n",
       "       [2],\n",
       "       [2],\n",
       "       [2],\n",
       "       [2],\n",
       "       [2],\n",
       "       [2],\n",
       "       [2],\n",
       "       [3],\n",
       "       [2],\n",
       "       [2],\n",
       "       [2],\n",
       "       [3],\n",
       "       [3],\n",
       "       [2],\n",
       "       [2],\n",
       "       [3],\n",
       "       [3],\n",
       "       [3],\n",
       "       [2],\n",
       "       [2],\n",
       "       [2],\n",
       "       [3]])"
      ]
     },
     "execution_count": 70,
     "metadata": {},
     "output_type": "execute_result"
    }
   ],
   "source": [
    "padded"
   ]
  },
  {
   "cell_type": "code",
   "execution_count": 71,
   "id": "5c2ba5d4",
   "metadata": {},
   "outputs": [],
   "source": [
    "insmodel=load_model(\"insmodel.pkl\")"
   ]
  },
  {
   "cell_type": "code",
   "execution_count": 72,
   "id": "0fa0e76e",
   "metadata": {},
   "outputs": [
    {
     "name": "stdout",
     "output_type": "stream",
     "text": [
      "\r",
      "\u001b[1m1/5\u001b[0m \u001b[32m━━━━\u001b[0m\u001b[37m━━━━━━━━━━━━━━━━\u001b[0m \u001b[1m0s\u001b[0m 103ms/step"
     ]
    },
    {
     "ename": "InvalidArgumentError",
     "evalue": "Graph execution error:\n\nDetected at node sequential_5_1/embedding_4_1/GatherV2 defined at (most recent call last):\n  File \"C:\\Users\\Jamaludeen\\anaconda3\\lib\\runpy.py\", line 196, in _run_module_as_main\n\n  File \"C:\\Users\\Jamaludeen\\anaconda3\\lib\\runpy.py\", line 86, in _run_code\n\n  File \"C:\\Users\\Jamaludeen\\anaconda3\\lib\\site-packages\\ipykernel_launcher.py\", line 17, in <module>\n\n  File \"C:\\Users\\Jamaludeen\\anaconda3\\lib\\site-packages\\traitlets\\config\\application.py\", line 992, in launch_instance\n\n  File \"C:\\Users\\Jamaludeen\\anaconda3\\lib\\site-packages\\ipykernel\\kernelapp.py\", line 711, in start\n\n  File \"C:\\Users\\Jamaludeen\\anaconda3\\lib\\site-packages\\tornado\\platform\\asyncio.py\", line 199, in start\n\n  File \"C:\\Users\\Jamaludeen\\anaconda3\\lib\\asyncio\\base_events.py\", line 603, in run_forever\n\n  File \"C:\\Users\\Jamaludeen\\anaconda3\\lib\\asyncio\\base_events.py\", line 1906, in _run_once\n\n  File \"C:\\Users\\Jamaludeen\\anaconda3\\lib\\asyncio\\events.py\", line 80, in _run\n\n  File \"C:\\Users\\Jamaludeen\\anaconda3\\lib\\site-packages\\ipykernel\\kernelbase.py\", line 510, in dispatch_queue\n\n  File \"C:\\Users\\Jamaludeen\\anaconda3\\lib\\site-packages\\ipykernel\\kernelbase.py\", line 499, in process_one\n\n  File \"C:\\Users\\Jamaludeen\\anaconda3\\lib\\site-packages\\ipykernel\\kernelbase.py\", line 406, in dispatch_shell\n\n  File \"C:\\Users\\Jamaludeen\\anaconda3\\lib\\site-packages\\ipykernel\\kernelbase.py\", line 729, in execute_request\n\n  File \"C:\\Users\\Jamaludeen\\anaconda3\\lib\\site-packages\\ipykernel\\ipkernel.py\", line 411, in do_execute\n\n  File \"C:\\Users\\Jamaludeen\\anaconda3\\lib\\site-packages\\ipykernel\\zmqshell.py\", line 531, in run_cell\n\n  File \"C:\\Users\\Jamaludeen\\anaconda3\\lib\\site-packages\\IPython\\core\\interactiveshell.py\", line 2961, in run_cell\n\n  File \"C:\\Users\\Jamaludeen\\anaconda3\\lib\\site-packages\\IPython\\core\\interactiveshell.py\", line 3016, in _run_cell\n\n  File \"C:\\Users\\Jamaludeen\\anaconda3\\lib\\site-packages\\IPython\\core\\async_helpers.py\", line 129, in _pseudo_sync_runner\n\n  File \"C:\\Users\\Jamaludeen\\anaconda3\\lib\\site-packages\\IPython\\core\\interactiveshell.py\", line 3221, in run_cell_async\n\n  File \"C:\\Users\\Jamaludeen\\anaconda3\\lib\\site-packages\\IPython\\core\\interactiveshell.py\", line 3400, in run_ast_nodes\n\n  File \"C:\\Users\\Jamaludeen\\anaconda3\\lib\\site-packages\\IPython\\core\\interactiveshell.py\", line 3460, in run_code\n\n  File \"C:\\Users\\Jamaludeen\\AppData\\Local\\Temp\\ipykernel_20192\\2678761753.py\", line 1, in <module>\n\n  File \"C:\\Users\\Jamaludeen\\anaconda3\\lib\\site-packages\\keras\\src\\utils\\traceback_utils.py\", line 117, in error_handler\n\n  File \"C:\\Users\\Jamaludeen\\anaconda3\\lib\\site-packages\\keras\\src\\backend\\tensorflow\\trainer.py\", line 508, in predict\n\n  File \"C:\\Users\\Jamaludeen\\anaconda3\\lib\\site-packages\\keras\\src\\backend\\tensorflow\\trainer.py\", line 208, in one_step_on_data_distributed\n\n  File \"C:\\Users\\Jamaludeen\\anaconda3\\lib\\site-packages\\keras\\src\\backend\\tensorflow\\trainer.py\", line 198, in one_step_on_data\n\n  File \"C:\\Users\\Jamaludeen\\anaconda3\\lib\\site-packages\\keras\\src\\backend\\tensorflow\\trainer.py\", line 96, in predict_step\n\n  File \"C:\\Users\\Jamaludeen\\anaconda3\\lib\\site-packages\\keras\\src\\utils\\traceback_utils.py\", line 117, in error_handler\n\n  File \"C:\\Users\\Jamaludeen\\anaconda3\\lib\\site-packages\\keras\\src\\layers\\layer.py\", line 882, in __call__\n\n  File \"C:\\Users\\Jamaludeen\\anaconda3\\lib\\site-packages\\keras\\src\\utils\\traceback_utils.py\", line 117, in error_handler\n\n  File \"C:\\Users\\Jamaludeen\\anaconda3\\lib\\site-packages\\keras\\src\\ops\\operation.py\", line 46, in __call__\n\n  File \"C:\\Users\\Jamaludeen\\anaconda3\\lib\\site-packages\\keras\\src\\utils\\traceback_utils.py\", line 156, in error_handler\n\n  File \"C:\\Users\\Jamaludeen\\anaconda3\\lib\\site-packages\\keras\\src\\models\\sequential.py\", line 209, in call\n\n  File \"C:\\Users\\Jamaludeen\\anaconda3\\lib\\site-packages\\keras\\src\\models\\functional.py\", line 175, in call\n\n  File \"C:\\Users\\Jamaludeen\\anaconda3\\lib\\site-packages\\keras\\src\\ops\\function.py\", line 171, in _run_through_graph\n\n  File \"C:\\Users\\Jamaludeen\\anaconda3\\lib\\site-packages\\keras\\src\\models\\functional.py\", line 556, in call\n\n  File \"C:\\Users\\Jamaludeen\\anaconda3\\lib\\site-packages\\keras\\src\\utils\\traceback_utils.py\", line 117, in error_handler\n\n  File \"C:\\Users\\Jamaludeen\\anaconda3\\lib\\site-packages\\keras\\src\\layers\\layer.py\", line 882, in __call__\n\n  File \"C:\\Users\\Jamaludeen\\anaconda3\\lib\\site-packages\\keras\\src\\utils\\traceback_utils.py\", line 117, in error_handler\n\n  File \"C:\\Users\\Jamaludeen\\anaconda3\\lib\\site-packages\\keras\\src\\ops\\operation.py\", line 46, in __call__\n\n  File \"C:\\Users\\Jamaludeen\\anaconda3\\lib\\site-packages\\keras\\src\\utils\\traceback_utils.py\", line 156, in error_handler\n\n  File \"C:\\Users\\Jamaludeen\\anaconda3\\lib\\site-packages\\keras\\src\\layers\\core\\embedding.py\", line 140, in call\n\n  File \"C:\\Users\\Jamaludeen\\anaconda3\\lib\\site-packages\\keras\\src\\ops\\numpy.py\", line 4875, in take\n\n  File \"C:\\Users\\Jamaludeen\\anaconda3\\lib\\site-packages\\keras\\src\\backend\\tensorflow\\numpy.py\", line 1951, in take\n\nindices[7,0] = 7 is not in [0, 5)\n\t [[{{node sequential_5_1/embedding_4_1/GatherV2}}]] [Op:__inference_one_step_on_data_distributed_896]",
     "output_type": "error",
     "traceback": [
      "\u001b[1;31m---------------------------------------------------------------------------\u001b[0m",
      "\u001b[1;31mInvalidArgumentError\u001b[0m                      Traceback (most recent call last)",
      "Cell \u001b[1;32mIn[72], line 1\u001b[0m\n\u001b[1;32m----> 1\u001b[0m \u001b[43minsmodel\u001b[49m\u001b[38;5;241;43m.\u001b[39;49m\u001b[43mpredict\u001b[49m\u001b[43m(\u001b[49m\u001b[43mpadded\u001b[49m\u001b[43m)\u001b[49m\n",
      "File \u001b[1;32m~\\anaconda3\\lib\\site-packages\\keras\\src\\utils\\traceback_utils.py:122\u001b[0m, in \u001b[0;36mfilter_traceback.<locals>.error_handler\u001b[1;34m(*args, **kwargs)\u001b[0m\n\u001b[0;32m    119\u001b[0m     filtered_tb \u001b[38;5;241m=\u001b[39m _process_traceback_frames(e\u001b[38;5;241m.\u001b[39m__traceback__)\n\u001b[0;32m    120\u001b[0m     \u001b[38;5;66;03m# To get the full stack trace, call:\u001b[39;00m\n\u001b[0;32m    121\u001b[0m     \u001b[38;5;66;03m# `keras.config.disable_traceback_filtering()`\u001b[39;00m\n\u001b[1;32m--> 122\u001b[0m     \u001b[38;5;28;01mraise\u001b[39;00m e\u001b[38;5;241m.\u001b[39mwith_traceback(filtered_tb) \u001b[38;5;28;01mfrom\u001b[39;00m \u001b[38;5;28;01mNone\u001b[39;00m\n\u001b[0;32m    123\u001b[0m \u001b[38;5;28;01mfinally\u001b[39;00m:\n\u001b[0;32m    124\u001b[0m     \u001b[38;5;28;01mdel\u001b[39;00m filtered_tb\n",
      "File \u001b[1;32m~\\anaconda3\\lib\\site-packages\\tensorflow\\python\\eager\\execute.py:53\u001b[0m, in \u001b[0;36mquick_execute\u001b[1;34m(op_name, num_outputs, inputs, attrs, ctx, name)\u001b[0m\n\u001b[0;32m     51\u001b[0m \u001b[38;5;28;01mtry\u001b[39;00m:\n\u001b[0;32m     52\u001b[0m   ctx\u001b[38;5;241m.\u001b[39mensure_initialized()\n\u001b[1;32m---> 53\u001b[0m   tensors \u001b[38;5;241m=\u001b[39m pywrap_tfe\u001b[38;5;241m.\u001b[39mTFE_Py_Execute(ctx\u001b[38;5;241m.\u001b[39m_handle, device_name, op_name,\n\u001b[0;32m     54\u001b[0m                                       inputs, attrs, num_outputs)\n\u001b[0;32m     55\u001b[0m \u001b[38;5;28;01mexcept\u001b[39;00m core\u001b[38;5;241m.\u001b[39m_NotOkStatusException \u001b[38;5;28;01mas\u001b[39;00m e:\n\u001b[0;32m     56\u001b[0m   \u001b[38;5;28;01mif\u001b[39;00m name \u001b[38;5;129;01mis\u001b[39;00m \u001b[38;5;129;01mnot\u001b[39;00m \u001b[38;5;28;01mNone\u001b[39;00m:\n",
      "\u001b[1;31mInvalidArgumentError\u001b[0m: Graph execution error:\n\nDetected at node sequential_5_1/embedding_4_1/GatherV2 defined at (most recent call last):\n  File \"C:\\Users\\Jamaludeen\\anaconda3\\lib\\runpy.py\", line 196, in _run_module_as_main\n\n  File \"C:\\Users\\Jamaludeen\\anaconda3\\lib\\runpy.py\", line 86, in _run_code\n\n  File \"C:\\Users\\Jamaludeen\\anaconda3\\lib\\site-packages\\ipykernel_launcher.py\", line 17, in <module>\n\n  File \"C:\\Users\\Jamaludeen\\anaconda3\\lib\\site-packages\\traitlets\\config\\application.py\", line 992, in launch_instance\n\n  File \"C:\\Users\\Jamaludeen\\anaconda3\\lib\\site-packages\\ipykernel\\kernelapp.py\", line 711, in start\n\n  File \"C:\\Users\\Jamaludeen\\anaconda3\\lib\\site-packages\\tornado\\platform\\asyncio.py\", line 199, in start\n\n  File \"C:\\Users\\Jamaludeen\\anaconda3\\lib\\asyncio\\base_events.py\", line 603, in run_forever\n\n  File \"C:\\Users\\Jamaludeen\\anaconda3\\lib\\asyncio\\base_events.py\", line 1906, in _run_once\n\n  File \"C:\\Users\\Jamaludeen\\anaconda3\\lib\\asyncio\\events.py\", line 80, in _run\n\n  File \"C:\\Users\\Jamaludeen\\anaconda3\\lib\\site-packages\\ipykernel\\kernelbase.py\", line 510, in dispatch_queue\n\n  File \"C:\\Users\\Jamaludeen\\anaconda3\\lib\\site-packages\\ipykernel\\kernelbase.py\", line 499, in process_one\n\n  File \"C:\\Users\\Jamaludeen\\anaconda3\\lib\\site-packages\\ipykernel\\kernelbase.py\", line 406, in dispatch_shell\n\n  File \"C:\\Users\\Jamaludeen\\anaconda3\\lib\\site-packages\\ipykernel\\kernelbase.py\", line 729, in execute_request\n\n  File \"C:\\Users\\Jamaludeen\\anaconda3\\lib\\site-packages\\ipykernel\\ipkernel.py\", line 411, in do_execute\n\n  File \"C:\\Users\\Jamaludeen\\anaconda3\\lib\\site-packages\\ipykernel\\zmqshell.py\", line 531, in run_cell\n\n  File \"C:\\Users\\Jamaludeen\\anaconda3\\lib\\site-packages\\IPython\\core\\interactiveshell.py\", line 2961, in run_cell\n\n  File \"C:\\Users\\Jamaludeen\\anaconda3\\lib\\site-packages\\IPython\\core\\interactiveshell.py\", line 3016, in _run_cell\n\n  File \"C:\\Users\\Jamaludeen\\anaconda3\\lib\\site-packages\\IPython\\core\\async_helpers.py\", line 129, in _pseudo_sync_runner\n\n  File \"C:\\Users\\Jamaludeen\\anaconda3\\lib\\site-packages\\IPython\\core\\interactiveshell.py\", line 3221, in run_cell_async\n\n  File \"C:\\Users\\Jamaludeen\\anaconda3\\lib\\site-packages\\IPython\\core\\interactiveshell.py\", line 3400, in run_ast_nodes\n\n  File \"C:\\Users\\Jamaludeen\\anaconda3\\lib\\site-packages\\IPython\\core\\interactiveshell.py\", line 3460, in run_code\n\n  File \"C:\\Users\\Jamaludeen\\AppData\\Local\\Temp\\ipykernel_20192\\2678761753.py\", line 1, in <module>\n\n  File \"C:\\Users\\Jamaludeen\\anaconda3\\lib\\site-packages\\keras\\src\\utils\\traceback_utils.py\", line 117, in error_handler\n\n  File \"C:\\Users\\Jamaludeen\\anaconda3\\lib\\site-packages\\keras\\src\\backend\\tensorflow\\trainer.py\", line 508, in predict\n\n  File \"C:\\Users\\Jamaludeen\\anaconda3\\lib\\site-packages\\keras\\src\\backend\\tensorflow\\trainer.py\", line 208, in one_step_on_data_distributed\n\n  File \"C:\\Users\\Jamaludeen\\anaconda3\\lib\\site-packages\\keras\\src\\backend\\tensorflow\\trainer.py\", line 198, in one_step_on_data\n\n  File \"C:\\Users\\Jamaludeen\\anaconda3\\lib\\site-packages\\keras\\src\\backend\\tensorflow\\trainer.py\", line 96, in predict_step\n\n  File \"C:\\Users\\Jamaludeen\\anaconda3\\lib\\site-packages\\keras\\src\\utils\\traceback_utils.py\", line 117, in error_handler\n\n  File \"C:\\Users\\Jamaludeen\\anaconda3\\lib\\site-packages\\keras\\src\\layers\\layer.py\", line 882, in __call__\n\n  File \"C:\\Users\\Jamaludeen\\anaconda3\\lib\\site-packages\\keras\\src\\utils\\traceback_utils.py\", line 117, in error_handler\n\n  File \"C:\\Users\\Jamaludeen\\anaconda3\\lib\\site-packages\\keras\\src\\ops\\operation.py\", line 46, in __call__\n\n  File \"C:\\Users\\Jamaludeen\\anaconda3\\lib\\site-packages\\keras\\src\\utils\\traceback_utils.py\", line 156, in error_handler\n\n  File \"C:\\Users\\Jamaludeen\\anaconda3\\lib\\site-packages\\keras\\src\\models\\sequential.py\", line 209, in call\n\n  File \"C:\\Users\\Jamaludeen\\anaconda3\\lib\\site-packages\\keras\\src\\models\\functional.py\", line 175, in call\n\n  File \"C:\\Users\\Jamaludeen\\anaconda3\\lib\\site-packages\\keras\\src\\ops\\function.py\", line 171, in _run_through_graph\n\n  File \"C:\\Users\\Jamaludeen\\anaconda3\\lib\\site-packages\\keras\\src\\models\\functional.py\", line 556, in call\n\n  File \"C:\\Users\\Jamaludeen\\anaconda3\\lib\\site-packages\\keras\\src\\utils\\traceback_utils.py\", line 117, in error_handler\n\n  File \"C:\\Users\\Jamaludeen\\anaconda3\\lib\\site-packages\\keras\\src\\layers\\layer.py\", line 882, in __call__\n\n  File \"C:\\Users\\Jamaludeen\\anaconda3\\lib\\site-packages\\keras\\src\\utils\\traceback_utils.py\", line 117, in error_handler\n\n  File \"C:\\Users\\Jamaludeen\\anaconda3\\lib\\site-packages\\keras\\src\\ops\\operation.py\", line 46, in __call__\n\n  File \"C:\\Users\\Jamaludeen\\anaconda3\\lib\\site-packages\\keras\\src\\utils\\traceback_utils.py\", line 156, in error_handler\n\n  File \"C:\\Users\\Jamaludeen\\anaconda3\\lib\\site-packages\\keras\\src\\layers\\core\\embedding.py\", line 140, in call\n\n  File \"C:\\Users\\Jamaludeen\\anaconda3\\lib\\site-packages\\keras\\src\\ops\\numpy.py\", line 4875, in take\n\n  File \"C:\\Users\\Jamaludeen\\anaconda3\\lib\\site-packages\\keras\\src\\backend\\tensorflow\\numpy.py\", line 1951, in take\n\nindices[7,0] = 7 is not in [0, 5)\n\t [[{{node sequential_5_1/embedding_4_1/GatherV2}}]] [Op:__inference_one_step_on_data_distributed_896]"
     ]
    }
   ],
   "source": [
    "insmodel.predict(padded)"
   ]
  },
  {
   "cell_type": "code",
   "execution_count": 1,
   "id": "6138d2f5",
   "metadata": {},
   "outputs": [],
   "source": [
    "import pandas as pd"
   ]
  },
  {
   "cell_type": "code",
   "execution_count": 6,
   "id": "61057fe2",
   "metadata": {},
   "outputs": [],
   "source": [
    "df=pd.read_csv(\"patient.csv\")"
   ]
  },
  {
   "cell_type": "code",
   "execution_count": 7,
   "id": "d0f9ffa8",
   "metadata": {},
   "outputs": [
    {
     "data": {
      "text/html": [
       "<div>\n",
       "<style scoped>\n",
       "    .dataframe tbody tr th:only-of-type {\n",
       "        vertical-align: middle;\n",
       "    }\n",
       "\n",
       "    .dataframe tbody tr th {\n",
       "        vertical-align: top;\n",
       "    }\n",
       "\n",
       "    .dataframe thead th {\n",
       "        text-align: right;\n",
       "    }\n",
       "</style>\n",
       "<table border=\"1\" class=\"dataframe\">\n",
       "  <thead>\n",
       "    <tr style=\"text-align: right;\">\n",
       "      <th></th>\n",
       "      <th>Unnamed: 0.1</th>\n",
       "      <th>Unnamed: 0</th>\n",
       "      <th>subject_id</th>\n",
       "      <th>admittime</th>\n",
       "      <th>dischtime</th>\n",
       "      <th>admission_type</th>\n",
       "      <th>insurance</th>\n",
       "      <th>marital_status</th>\n",
       "      <th>diagnosis</th>\n",
       "      <th>hospital_expire_flag</th>\n",
       "      <th>...</th>\n",
       "      <th>enddate</th>\n",
       "      <th>drug_type</th>\n",
       "      <th>drug</th>\n",
       "      <th>drug_name_poe</th>\n",
       "      <th>drug_name_generic</th>\n",
       "      <th>dose_val_rx</th>\n",
       "      <th>dose_unit_rx</th>\n",
       "      <th>form_val_disp</th>\n",
       "      <th>form_unit_disp</th>\n",
       "      <th>opioid_abuse</th>\n",
       "    </tr>\n",
       "  </thead>\n",
       "  <tbody>\n",
       "    <tr>\n",
       "      <th>0</th>\n",
       "      <td>0</td>\n",
       "      <td>0</td>\n",
       "      <td>10006</td>\n",
       "      <td>2004-10-23 21:09:00</td>\n",
       "      <td>2004-11-01 17:15:00</td>\n",
       "      <td>1</td>\n",
       "      <td>Medicare</td>\n",
       "      <td>SEPARATED</td>\n",
       "      <td>SEPSIS</td>\n",
       "      <td>0</td>\n",
       "      <td>...</td>\n",
       "      <td>2004-11-01</td>\n",
       "      <td>MAIN</td>\n",
       "      <td>Sodium Chloride 0.9%  Flush</td>\n",
       "      <td>Sodium Chloride 0.9%  Flush</td>\n",
       "      <td>Sodium Chloride 0.9%  Flush</td>\n",
       "      <td>3</td>\n",
       "      <td>ml</td>\n",
       "      <td>0.6</td>\n",
       "      <td>SYR</td>\n",
       "      <td>yes</td>\n",
       "    </tr>\n",
       "    <tr>\n",
       "      <th>1</th>\n",
       "      <td>1</td>\n",
       "      <td>1</td>\n",
       "      <td>10006</td>\n",
       "      <td>2004-10-23 21:09:00</td>\n",
       "      <td>2004-11-01 17:15:00</td>\n",
       "      <td>1</td>\n",
       "      <td>Medicare</td>\n",
       "      <td>SEPARATED</td>\n",
       "      <td>SEPSIS</td>\n",
       "      <td>0</td>\n",
       "      <td>...</td>\n",
       "      <td>2004-10-23</td>\n",
       "      <td>MAIN</td>\n",
       "      <td>Glipizide</td>\n",
       "      <td>Glipizide</td>\n",
       "      <td>Glipizide</td>\n",
       "      <td>10</td>\n",
       "      <td>mg</td>\n",
       "      <td>1</td>\n",
       "      <td>TAB</td>\n",
       "      <td>No</td>\n",
       "    </tr>\n",
       "    <tr>\n",
       "      <th>2</th>\n",
       "      <td>2</td>\n",
       "      <td>2</td>\n",
       "      <td>10006</td>\n",
       "      <td>2004-10-23 21:09:00</td>\n",
       "      <td>2004-11-01 17:15:00</td>\n",
       "      <td>1</td>\n",
       "      <td>Medicare</td>\n",
       "      <td>SEPARATED</td>\n",
       "      <td>SEPSIS</td>\n",
       "      <td>0</td>\n",
       "      <td>...</td>\n",
       "      <td>2004-11-01</td>\n",
       "      <td>MAIN</td>\n",
       "      <td>Metoprolol</td>\n",
       "      <td>Metoprolol</td>\n",
       "      <td>Metoprolol</td>\n",
       "      <td>150</td>\n",
       "      <td>mg</td>\n",
       "      <td>3</td>\n",
       "      <td>TAB</td>\n",
       "      <td>yes</td>\n",
       "    </tr>\n",
       "    <tr>\n",
       "      <th>3</th>\n",
       "      <td>3</td>\n",
       "      <td>3</td>\n",
       "      <td>10006</td>\n",
       "      <td>2004-10-23 21:09:00</td>\n",
       "      <td>2004-11-01 17:15:00</td>\n",
       "      <td>1</td>\n",
       "      <td>Medicare</td>\n",
       "      <td>SEPARATED</td>\n",
       "      <td>SEPSIS</td>\n",
       "      <td>0</td>\n",
       "      <td>...</td>\n",
       "      <td>2004-10-29</td>\n",
       "      <td>MAIN</td>\n",
       "      <td>Sevelamer</td>\n",
       "      <td>Sevelamer</td>\n",
       "      <td>Sevelamer HCl</td>\n",
       "      <td>800</td>\n",
       "      <td>mg</td>\n",
       "      <td>1</td>\n",
       "      <td>TAB</td>\n",
       "      <td>yes</td>\n",
       "    </tr>\n",
       "    <tr>\n",
       "      <th>4</th>\n",
       "      <td>4</td>\n",
       "      <td>4</td>\n",
       "      <td>10006</td>\n",
       "      <td>2004-10-23 21:09:00</td>\n",
       "      <td>2004-11-01 17:15:00</td>\n",
       "      <td>1</td>\n",
       "      <td>Medicare</td>\n",
       "      <td>SEPARATED</td>\n",
       "      <td>SEPSIS</td>\n",
       "      <td>0</td>\n",
       "      <td>...</td>\n",
       "      <td>2004-11-01</td>\n",
       "      <td>MAIN</td>\n",
       "      <td>Insulin</td>\n",
       "      <td>Insulin</td>\n",
       "      <td>Insulin</td>\n",
       "      <td>0</td>\n",
       "      <td>UNIT</td>\n",
       "      <td>0</td>\n",
       "      <td>VIAL</td>\n",
       "      <td>yes</td>\n",
       "    </tr>\n",
       "  </tbody>\n",
       "</table>\n",
       "<p>5 rows × 21 columns</p>\n",
       "</div>"
      ],
      "text/plain": [
       "   Unnamed: 0.1  Unnamed: 0  subject_id            admittime  \\\n",
       "0             0           0       10006  2004-10-23 21:09:00   \n",
       "1             1           1       10006  2004-10-23 21:09:00   \n",
       "2             2           2       10006  2004-10-23 21:09:00   \n",
       "3             3           3       10006  2004-10-23 21:09:00   \n",
       "4             4           4       10006  2004-10-23 21:09:00   \n",
       "\n",
       "             dischtime  admission_type insurance marital_status diagnosis  \\\n",
       "0  2004-11-01 17:15:00               1  Medicare      SEPARATED    SEPSIS   \n",
       "1  2004-11-01 17:15:00               1  Medicare      SEPARATED    SEPSIS   \n",
       "2  2004-11-01 17:15:00               1  Medicare      SEPARATED    SEPSIS   \n",
       "3  2004-11-01 17:15:00               1  Medicare      SEPARATED    SEPSIS   \n",
       "4  2004-11-01 17:15:00               1  Medicare      SEPARATED    SEPSIS   \n",
       "\n",
       "   hospital_expire_flag  ...     enddate drug_type  \\\n",
       "0                     0  ...  2004-11-01      MAIN   \n",
       "1                     0  ...  2004-10-23      MAIN   \n",
       "2                     0  ...  2004-11-01      MAIN   \n",
       "3                     0  ...  2004-10-29      MAIN   \n",
       "4                     0  ...  2004-11-01      MAIN   \n",
       "\n",
       "                          drug                drug_name_poe  \\\n",
       "0  Sodium Chloride 0.9%  Flush  Sodium Chloride 0.9%  Flush   \n",
       "1                    Glipizide                    Glipizide   \n",
       "2                   Metoprolol                   Metoprolol   \n",
       "3                    Sevelamer                    Sevelamer   \n",
       "4                      Insulin                      Insulin   \n",
       "\n",
       "             drug_name_generic dose_val_rx dose_unit_rx form_val_disp  \\\n",
       "0  Sodium Chloride 0.9%  Flush           3           ml           0.6   \n",
       "1                    Glipizide          10           mg             1   \n",
       "2                   Metoprolol         150           mg             3   \n",
       "3                Sevelamer HCl         800           mg             1   \n",
       "4                      Insulin           0         UNIT             0   \n",
       "\n",
       "  form_unit_disp opioid_abuse  \n",
       "0            SYR          yes  \n",
       "1            TAB           No  \n",
       "2            TAB          yes  \n",
       "3            TAB          yes  \n",
       "4           VIAL          yes  \n",
       "\n",
       "[5 rows x 21 columns]"
      ]
     },
     "execution_count": 7,
     "metadata": {},
     "output_type": "execute_result"
    }
   ],
   "source": [
    "df.head()"
   ]
  },
  {
   "cell_type": "code",
   "execution_count": 5,
   "id": "9f12f076",
   "metadata": {},
   "outputs": [
    {
     "data": {
      "text/plain": [
       "{1, 2, 3}"
      ]
     },
     "execution_count": 5,
     "metadata": {},
     "output_type": "execute_result"
    }
   ],
   "source": [
    "set(df[\"admission_type\"])"
   ]
  },
  {
   "cell_type": "code",
   "execution_count": 8,
   "id": "9176300a",
   "metadata": {},
   "outputs": [
    {
     "data": {
      "text/plain": [
       "{'Government', 'Medicaid', 'Medicare', 'Private'}"
      ]
     },
     "execution_count": 8,
     "metadata": {},
     "output_type": "execute_result"
    }
   ],
   "source": [
    "set(df[\"insurance\"])"
   ]
  },
  {
   "cell_type": "code",
   "execution_count": 9,
   "id": "6ff36474",
   "metadata": {},
   "outputs": [
    {
     "data": {
      "text/plain": [
       "{'DIVORCED', 'MARRIED', 'SEPARATED', 'SINGLE', 'UNKNOWN (DEFAULT)', 'WIDOWED'}"
      ]
     },
     "execution_count": 9,
     "metadata": {},
     "output_type": "execute_result"
    }
   ],
   "source": [
    "set(df[\"marital_status\"])"
   ]
  },
  {
   "cell_type": "code",
   "execution_count": 10,
   "id": "c8421471",
   "metadata": {},
   "outputs": [
    {
     "data": {
      "text/plain": [
       "{0, 1}"
      ]
     },
     "execution_count": 10,
     "metadata": {},
     "output_type": "execute_result"
    }
   ],
   "source": [
    "set(df[\"hospital_expire_flag\"])"
   ]
  },
  {
   "cell_type": "code",
   "execution_count": 11,
   "id": "df65cdd0",
   "metadata": {},
   "outputs": [
    {
     "data": {
      "text/plain": [
       "{'ADDITIVE', 'BASE', 'MAIN'}"
      ]
     },
     "execution_count": 11,
     "metadata": {},
     "output_type": "execute_result"
    }
   ],
   "source": [
    "set(df[\"drug_type\"])"
   ]
  },
  {
   "cell_type": "code",
   "execution_count": 13,
   "id": "a004cc5e",
   "metadata": {
    "scrolled": true
   },
   "outputs": [
    {
     "data": {
      "text/plain": [
       "{'AMP',\n",
       " 'Appl',\n",
       " 'BAG',\n",
       " 'CAP',\n",
       " 'DROP',\n",
       " 'Enema',\n",
       " 'INH',\n",
       " 'L',\n",
       " 'LOZ',\n",
       " 'NEB',\n",
       " 'PKT',\n",
       " 'PTCH',\n",
       " 'PUFF',\n",
       " 'SPRY',\n",
       " 'SYR',\n",
       " 'TAB',\n",
       " 'TROC',\n",
       " 'UDCUP',\n",
       " 'UNIT',\n",
       " 'VIAL',\n",
       " 'dose',\n",
       " 'g',\n",
       " 'gm',\n",
       " 'gtt',\n",
       " 'in',\n",
       " 'mEq',\n",
       " 'mL',\n",
       " 'mcg',\n",
       " 'mcg/h',\n",
       " 'mcg/hr',\n",
       " 'mg',\n",
       " 'mg PE',\n",
       " 'million units',\n",
       " 'ml',\n",
       " 'mmol'}"
      ]
     },
     "execution_count": 13,
     "metadata": {},
     "output_type": "execute_result"
    }
   ],
   "source": [
    "set(df[\"dose_unit_rx\"])"
   ]
  },
  {
   "cell_type": "code",
   "execution_count": 6,
   "id": "02f6b9af",
   "metadata": {},
   "outputs": [
    {
     "name": "stdout",
     "output_type": "stream",
     "text": [
      "Collecting dtale\n",
      "  Downloading dtale-3.13.1-py2.py3-none-any.whl (14.4 MB)\n",
      "     ---------------------------------------- 14.4/14.4 MB 3.6 MB/s eta 0:00:00\n",
      "Collecting xlrd\n",
      "  Using cached xlrd-2.0.1-py2.py3-none-any.whl (96 kB)\n",
      "Requirement already satisfied: numpy in c:\\users\\jamaludeen\\anaconda3\\lib\\site-packages (from dtale) (1.23.5)\n",
      "Collecting dash-daq\n",
      "  Using cached dash_daq-0.5.0.tar.gz (642 kB)\n",
      "  Preparing metadata (setup.py): started\n",
      "  Preparing metadata (setup.py): finished with status 'done'\n",
      "Requirement already satisfied: plotly in c:\\users\\jamaludeen\\anaconda3\\lib\\site-packages (from dtale) (5.9.0)\n",
      "Requirement already satisfied: future>=0.14.0 in c:\\users\\jamaludeen\\anaconda3\\lib\\site-packages (from dtale) (0.18.3)\n",
      "Requirement already satisfied: contourpy in c:\\users\\jamaludeen\\anaconda3\\lib\\site-packages (from dtale) (1.0.5)\n",
      "Collecting squarify\n",
      "  Downloading squarify-0.4.4-py3-none-any.whl (4.1 kB)\n",
      "Requirement already satisfied: xarray in c:\\users\\jamaludeen\\anaconda3\\lib\\site-packages (from dtale) (2022.11.0)\n",
      "Requirement already satisfied: scikit-learn in c:\\users\\jamaludeen\\anaconda3\\lib\\site-packages (from dtale) (1.2.1)\n",
      "Requirement already satisfied: werkzeug in c:\\users\\jamaludeen\\anaconda3\\lib\\site-packages (from dtale) (2.2.2)\n",
      "Requirement already satisfied: scipy!=1.12.0rc1,!=1.14.0,!=1.14.0rc1,!=1.14.0rc2 in c:\\users\\jamaludeen\\anaconda3\\lib\\site-packages (from dtale) (1.10.0)\n",
      "Requirement already satisfied: six in c:\\users\\jamaludeen\\anaconda3\\lib\\site-packages (from dtale) (1.16.0)\n",
      "Collecting missingno\n",
      "  Using cached missingno-0.5.2-py3-none-any.whl (8.7 kB)\n",
      "Requirement already satisfied: pandas in c:\\users\\jamaludeen\\anaconda3\\lib\\site-packages (from dtale) (1.5.3)\n",
      "Requirement already satisfied: requests in c:\\users\\jamaludeen\\anaconda3\\lib\\site-packages (from dtale) (2.28.1)\n",
      "Requirement already satisfied: cycler in c:\\users\\jamaludeen\\anaconda3\\lib\\site-packages (from dtale) (0.11.0)\n",
      "Requirement already satisfied: matplotlib in c:\\users\\jamaludeen\\anaconda3\\lib\\site-packages (from dtale) (3.7.0)\n",
      "Requirement already satisfied: et-xmlfile in c:\\users\\jamaludeen\\anaconda3\\lib\\site-packages (from dtale) (1.1.0)\n",
      "Requirement already satisfied: Flask<2.3 in c:\\users\\jamaludeen\\anaconda3\\lib\\site-packages (from dtale) (2.2.2)\n",
      "Collecting dash\n",
      "  Downloading dash-2.17.1-py3-none-any.whl (7.5 MB)\n",
      "     ---------------------------------------- 7.5/7.5 MB 6.5 MB/s eta 0:00:00\n",
      "Collecting dash-bootstrap-components<=1.3.1\n",
      "  Using cached dash_bootstrap_components-1.3.1-py3-none-any.whl (219 kB)\n",
      "Collecting Flask-Compress\n",
      "  Downloading Flask_Compress-1.15-py3-none-any.whl (8.6 kB)\n",
      "Collecting kaleido\n",
      "  Using cached kaleido-0.2.1-py2.py3-none-win_amd64.whl (65.9 MB)\n",
      "Requirement already satisfied: openpyxl!=3.2.0b1 in c:\\users\\jamaludeen\\anaconda3\\lib\\site-packages (from dtale) (3.0.10)\n",
      "Requirement already satisfied: lz4 in c:\\users\\jamaludeen\\anaconda3\\lib\\site-packages (from dtale) (3.1.3)\n",
      "Collecting dash-colorscales\n",
      "  Using cached dash_colorscales-0.0.4.tar.gz (62 kB)\n",
      "  Preparing metadata (setup.py): started\n",
      "  Preparing metadata (setup.py): finished with status 'done'\n",
      "Requirement already satisfied: beautifulsoup4!=4.13.0b2 in c:\\users\\jamaludeen\\anaconda3\\lib\\site-packages (from dtale) (4.11.1)\n",
      "Requirement already satisfied: seaborn in c:\\users\\jamaludeen\\anaconda3\\lib\\site-packages (from dtale) (0.12.2)\n",
      "Requirement already satisfied: networkx in c:\\users\\jamaludeen\\anaconda3\\lib\\site-packages (from dtale) (2.8.4)\n",
      "Requirement already satisfied: certifi in c:\\users\\jamaludeen\\anaconda3\\lib\\site-packages (from dtale) (2022.12.7)\n",
      "Requirement already satisfied: itsdangerous in c:\\users\\jamaludeen\\anaconda3\\lib\\site-packages (from dtale) (2.0.1)\n",
      "Requirement already satisfied: statsmodels in c:\\users\\jamaludeen\\anaconda3\\lib\\site-packages (from dtale) (0.13.5)\n",
      "Collecting flask-ngrok\n",
      "  Using cached flask_ngrok-0.0.25-py3-none-any.whl (3.1 kB)\n",
      "Collecting strsimpy\n",
      "  Using cached strsimpy-0.2.1-py3-none-any.whl (45 kB)\n",
      "Requirement already satisfied: soupsieve>1.2 in c:\\users\\jamaludeen\\anaconda3\\lib\\site-packages (from beautifulsoup4!=4.13.0b2->dtale) (2.3.2.post1)\n",
      "Collecting dash-html-components==2.0.0\n",
      "  Using cached dash_html_components-2.0.0-py3-none-any.whl (4.1 kB)\n",
      "Requirement already satisfied: setuptools in c:\\users\\jamaludeen\\anaconda3\\lib\\site-packages (from dash->dtale) (65.6.3)\n",
      "Collecting dash-core-components==2.0.0\n",
      "  Using cached dash_core_components-2.0.0-py3-none-any.whl (3.8 kB)\n",
      "Collecting dash-table==5.0.0\n",
      "  Using cached dash_table-5.0.0-py3-none-any.whl (3.9 kB)\n",
      "Collecting retrying\n",
      "  Using cached retrying-1.3.4-py3-none-any.whl (11 kB)\n",
      "Requirement already satisfied: nest-asyncio in c:\\users\\jamaludeen\\anaconda3\\lib\\site-packages (from dash->dtale) (1.5.6)\n",
      "Requirement already satisfied: importlib-metadata in c:\\users\\jamaludeen\\anaconda3\\lib\\site-packages (from dash->dtale) (4.11.3)\n",
      "Requirement already satisfied: typing-extensions>=4.1.1 in c:\\users\\jamaludeen\\anaconda3\\lib\\site-packages (from dash->dtale) (4.7.1)\n",
      "Requirement already satisfied: click>=8.0 in c:\\users\\jamaludeen\\anaconda3\\lib\\site-packages (from Flask<2.3->dtale) (8.0.4)\n",
      "Requirement already satisfied: Jinja2>=3.0 in c:\\users\\jamaludeen\\anaconda3\\lib\\site-packages (from Flask<2.3->dtale) (3.1.2)\n",
      "Requirement already satisfied: tenacity>=6.2.0 in c:\\users\\jamaludeen\\anaconda3\\lib\\site-packages (from plotly->dtale) (8.5.0)\n",
      "Requirement already satisfied: MarkupSafe>=2.1.1 in c:\\users\\jamaludeen\\anaconda3\\lib\\site-packages (from werkzeug->dtale) (2.1.1)\n",
      "Collecting brotli\n",
      "  Downloading Brotli-1.1.0-cp310-cp310-win_amd64.whl (357 kB)\n",
      "     -------------------------------------- 357.3/357.3 kB 7.4 MB/s eta 0:00:00\n",
      "Requirement already satisfied: zstandard in c:\\users\\jamaludeen\\anaconda3\\lib\\site-packages (from Flask-Compress->dtale) (0.19.0)\n",
      "Requirement already satisfied: kiwisolver>=1.0.1 in c:\\users\\jamaludeen\\anaconda3\\lib\\site-packages (from matplotlib->dtale) (1.4.4)\n",
      "Requirement already satisfied: pillow>=6.2.0 in c:\\users\\jamaludeen\\anaconda3\\lib\\site-packages (from matplotlib->dtale) (9.4.0)\n",
      "Requirement already satisfied: python-dateutil>=2.7 in c:\\users\\jamaludeen\\anaconda3\\lib\\site-packages (from matplotlib->dtale) (2.8.2)\n",
      "Requirement already satisfied: pyparsing>=2.3.1 in c:\\users\\jamaludeen\\anaconda3\\lib\\site-packages (from matplotlib->dtale) (3.0.9)\n",
      "Requirement already satisfied: fonttools>=4.22.0 in c:\\users\\jamaludeen\\anaconda3\\lib\\site-packages (from matplotlib->dtale) (4.25.0)\n",
      "Requirement already satisfied: packaging>=20.0 in c:\\users\\jamaludeen\\anaconda3\\lib\\site-packages (from matplotlib->dtale) (24.1)\n",
      "Requirement already satisfied: pytz>=2020.1 in c:\\users\\jamaludeen\\anaconda3\\lib\\site-packages (from pandas->dtale) (2022.7)\n",
      "Requirement already satisfied: idna<4,>=2.5 in c:\\users\\jamaludeen\\anaconda3\\lib\\site-packages (from requests->dtale) (3.4)\n",
      "Requirement already satisfied: urllib3<1.27,>=1.21.1 in c:\\users\\jamaludeen\\anaconda3\\lib\\site-packages (from requests->dtale) (1.26.14)\n",
      "Requirement already satisfied: charset-normalizer<3,>=2 in c:\\users\\jamaludeen\\anaconda3\\lib\\site-packages (from requests->dtale) (2.0.4)\n",
      "Requirement already satisfied: joblib>=1.1.1 in c:\\users\\jamaludeen\\anaconda3\\lib\\site-packages (from scikit-learn->dtale) (1.1.1)\n",
      "Requirement already satisfied: threadpoolctl>=2.0.0 in c:\\users\\jamaludeen\\anaconda3\\lib\\site-packages (from scikit-learn->dtale) (2.2.0)\n",
      "Requirement already satisfied: patsy>=0.5.2 in c:\\users\\jamaludeen\\anaconda3\\lib\\site-packages (from statsmodels->dtale) (0.5.3)\n",
      "Requirement already satisfied: colorama in c:\\users\\jamaludeen\\anaconda3\\lib\\site-packages (from click>=8.0->Flask<2.3->dtale) (0.4.6)\n",
      "Requirement already satisfied: zipp>=0.5 in c:\\users\\jamaludeen\\anaconda3\\lib\\site-packages (from importlib-metadata->dash->dtale) (3.11.0)\n",
      "Building wheels for collected packages: dash-colorscales, dash-daq\n",
      "  Building wheel for dash-colorscales (setup.py): started\n",
      "  Building wheel for dash-colorscales (setup.py): finished with status 'done'\n",
      "  Created wheel for dash-colorscales: filename=dash_colorscales-0.0.4-py3-none-any.whl size=62573 sha256=b2dda420e3c0f2c13d73aa6ba6931edeb79f79e903a41b43ab3456199464c8ed\n",
      "  Stored in directory: c:\\users\\jamaludeen\\appdata\\local\\pip\\cache\\wheels\\5c\\c9\\41\\5db0eced077f33779053be8e6e7966fe23e89083fcd723730d\n",
      "  Building wheel for dash-daq (setup.py): started\n",
      "  Building wheel for dash-daq (setup.py): finished with status 'done'\n",
      "  Created wheel for dash-daq: filename=dash_daq-0.5.0-py3-none-any.whl size=669721 sha256=37ddd82b9096e4a25b13316c4862cf05e58cbe98d5e7e9e6a558e76ac8517fb0\n",
      "  Stored in directory: c:\\users\\jamaludeen\\appdata\\local\\pip\\cache\\wheels\\95\\ae\\47\\e96608d9aeefe5d2a8c7e1c0f547e9ee49f1eedf13d8bf3f62\n",
      "Successfully built dash-colorscales dash-daq\n",
      "Installing collected packages: strsimpy, squarify, kaleido, dash-table, dash-html-components, dash-core-components, dash-colorscales, brotli, xlrd, retrying, flask-ngrok, Flask-Compress, dash, missingno, dash-daq, dash-bootstrap-components, dtale\n",
      "Successfully installed Flask-Compress-1.15 brotli-1.1.0 dash-2.17.1 dash-bootstrap-components-1.3.1 dash-colorscales-0.0.4 dash-core-components-2.0.0 dash-daq-0.5.0 dash-html-components-2.0.0 dash-table-5.0.0 dtale-3.13.1 flask-ngrok-0.0.25 kaleido-0.2.1 missingno-0.5.2 retrying-1.3.4 squarify-0.4.4 strsimpy-0.2.1 xlrd-2.0.1\n",
      "Note: you may need to restart the kernel to use updated packages.\n"
     ]
    },
    {
     "name": "stderr",
     "output_type": "stream",
     "text": [
      "Error processing line 1 of C:\\Users\\Jamaludeen\\anaconda3\\lib\\site-packages\\vision-1.0.0-py3.10-nspkg.pth:\n",
      "\n",
      "  Traceback (most recent call last):\n",
      "    File \"C:\\Users\\Jamaludeen\\anaconda3\\lib\\site.py\", line 186, in addpackage\n",
      "      exec(line)\n",
      "    File \"<string>\", line 1, in <module>\n",
      "    File \"<frozen importlib._bootstrap>\", line 568, in module_from_spec\n",
      "  AttributeError: 'NoneType' object has no attribute 'loader'\n",
      "\n",
      "Remainder of file ignored\n"
     ]
    }
   ],
   "source": [
    "pip install dtale"
   ]
  },
  {
   "cell_type": "code",
   "execution_count": 9,
   "id": "6eb89209",
   "metadata": {},
   "outputs": [],
   "source": [
    "import pandas as pd"
   ]
  },
  {
   "cell_type": "code",
   "execution_count": 10,
   "id": "bf25c733",
   "metadata": {},
   "outputs": [],
   "source": [
    "df=pd.read_csv(\"finaldata.csv\")"
   ]
  },
  {
   "cell_type": "code",
   "execution_count": 12,
   "id": "72292599",
   "metadata": {},
   "outputs": [
    {
     "name": "stdout",
     "output_type": "stream",
     "text": [
      "RangeIndex(start=0, stop=10397, step=1)\n"
     ]
    }
   ],
   "source": [
    "print(df.index)"
   ]
  },
  {
   "cell_type": "code",
   "execution_count": 12,
   "id": "1c035eb0",
   "metadata": {},
   "outputs": [
    {
     "ename": "AttributeError",
     "evalue": "'DtaleData' object has no attribute '_server_url'",
     "output_type": "error",
     "traceback": [
      "\u001b[1;31m---------------------------------------------------------------------------\u001b[0m",
      "\u001b[1;31mAttributeError\u001b[0m                            Traceback (most recent call last)",
      "Cell \u001b[1;32mIn[12], line 1\u001b[0m\n\u001b[1;32m----> 1\u001b[0m \u001b[43md\u001b[49m\u001b[38;5;241;43m.\u001b[39;49m\u001b[43m_server_url\u001b[49m\n",
      "\u001b[1;31mAttributeError\u001b[0m: 'DtaleData' object has no attribute '_server_url'"
     ]
    }
   ],
   "source": []
  },
  {
   "cell_type": "code",
   "execution_count": 2,
   "id": "c285a2be",
   "metadata": {},
   "outputs": [],
   "source": [
    "d={1:2,3:4,5:6}"
   ]
  },
  {
   "cell_type": "code",
   "execution_count": 7,
   "id": "fb80795a",
   "metadata": {},
   "outputs": [
    {
     "data": {
      "text/plain": [
       "[1, 3, 5]"
      ]
     },
     "execution_count": 7,
     "metadata": {},
     "output_type": "execute_result"
    }
   ],
   "source": [
    "list(d.keys())"
   ]
  },
  {
   "cell_type": "code",
   "execution_count": null,
   "id": "a905b4e5",
   "metadata": {},
   "outputs": [],
   "source": []
  }
 ],
 "metadata": {
  "kernelspec": {
   "display_name": "Python 3 (ipykernel)",
   "language": "python",
   "name": "python3"
  },
  "language_info": {
   "codemirror_mode": {
    "name": "ipython",
    "version": 3
   },
   "file_extension": ".py",
   "mimetype": "text/x-python",
   "name": "python",
   "nbconvert_exporter": "python",
   "pygments_lexer": "ipython3",
   "version": "3.10.9"
  }
 },
 "nbformat": 4,
 "nbformat_minor": 5
}
