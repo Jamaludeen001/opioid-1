{
 "cells": [
  {
   "cell_type": "code",
   "execution_count": null,
   "id": "a5aefe22",
   "metadata": {},
   "outputs": [],
   "source": []
  },
  {
   "cell_type": "code",
   "execution_count": 1,
   "id": "ff9628fb",
   "metadata": {},
   "outputs": [],
   "source": [
    "def columns_vectorize(merged_df,cols,pos,sv1,sv2,sv3):\n",
    "    global new_cols_names\n",
    "    new_cols_names[sv1[:-1]]=cols[pos]\n",
    "\n",
    "    col=Vectorize(merged_df[cols[pos]])\n",
    "    col_word_index,col_tokenize,col_tokens=col.tokenize()\n",
    "    col_padded=col.padding()\n",
    "    col.embedding()\n",
    "    col_model=col.train()\n",
    "    col_word_vectors=col.get_vectors()\n",
    "    col_model=col.padded_embedding();\n",
    "    col_vectorized=col_model.predict(col_padded)\n",
    "\n",
    "    V1=[];V2=[];V3=[]\n",
    "    for i in col_vectorized:\n",
    "        V1.append(i[0])\n",
    "        V2.append(i[1])\n",
    "        V3.append(i[2])\n",
    "    merged_df[sv1]=V1\n",
    "    merged_df[sv2]=V2\n",
    "    merged_df[sv3]=V3"
   ]
  },
  {
   "cell_type": "code",
   "execution_count": 2,
   "id": "4d001489",
   "metadata": {},
   "outputs": [],
   "source": [
    "import pandas as pd"
   ]
  },
  {
   "cell_type": "code",
   "execution_count": 3,
   "id": "77f3a9e1",
   "metadata": {},
   "outputs": [],
   "source": [
    "import pickle"
   ]
  },
  {
   "cell_type": "code",
   "execution_count": null,
   "id": "4033d965",
   "metadata": {},
   "outputs": [],
   "source": [
    "pickle.load(\"\")"
   ]
  },
  {
   "cell_type": "code",
   "execution_count": 1,
   "id": "72d2da9b",
   "metadata": {},
   "outputs": [],
   "source": [
    "a=[1,2,3,4,4,4,3,3,2,1]"
   ]
  },
  {
   "cell_type": "code",
   "execution_count": 5,
   "id": "edbd0bdb",
   "metadata": {},
   "outputs": [
    {
     "data": {
      "text/plain": [
       "2"
      ]
     },
     "execution_count": 5,
     "metadata": {},
     "output_type": "execute_result"
    }
   ],
   "source": [
    "a.count(1)"
   ]
  },
  {
   "cell_type": "code",
   "execution_count": null,
   "id": "bcfdf41a",
   "metadata": {},
   "outputs": [],
   "source": []
  },
  {
   "cell_type": "code",
   "execution_count": null,
   "id": "16b00001",
   "metadata": {},
   "outputs": [],
   "source": []
  }
 ],
 "metadata": {
  "kernelspec": {
   "display_name": "Python 3 (ipykernel)",
   "language": "python",
   "name": "python3"
  },
  "language_info": {
   "codemirror_mode": {
    "name": "ipython",
    "version": 3
   },
   "file_extension": ".py",
   "mimetype": "text/x-python",
   "name": "python",
   "nbconvert_exporter": "python",
   "pygments_lexer": "ipython3",
   "version": "3.10.9"
  }
 },
 "nbformat": 4,
 "nbformat_minor": 5
}
